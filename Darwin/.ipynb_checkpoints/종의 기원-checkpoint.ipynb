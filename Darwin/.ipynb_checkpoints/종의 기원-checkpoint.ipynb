{
 "cells": [
  {
   "cell_type": "code",
   "execution_count": 2,
   "id": "acc7a13a",
   "metadata": {},
   "outputs": [
    {
     "name": "stdout",
     "output_type": "stream",
     "text": [
      "Collecting pdftotext\n",
      "  Using cached pdftotext-2.2.2.tar.gz (113 kB)\n",
      "Building wheels for collected packages: pdftotext\n",
      "  Building wheel for pdftotext (setup.py) ... \u001b[?25ldone\n",
      "\u001b[?25h  Created wheel for pdftotext: filename=pdftotext-2.2.2-cp36-cp36m-macosx_10_9_x86_64.whl size=7494 sha256=cfe15fb72de71eaeccaa07836065aa4c289023cda14875990f4b40d2897ba982\n",
      "  Stored in directory: /Users/minjikim/Library/Caches/pip/wheels/57/8b/18/183ad5c164f6f852a98a906a9a762ca9f01ee37b59418311c6\n",
      "Successfully built pdftotext\n",
      "Installing collected packages: pdftotext\n",
      "Successfully installed pdftotext-2.2.2\n",
      "Note: you may need to restart the kernel to use updated packages.\n"
     ]
    }
   ],
   "source": [
    "pip install pdftotext"
   ]
  },
  {
   "cell_type": "code",
   "execution_count": 5,
   "id": "47f2cfd6",
   "metadata": {},
   "outputs": [],
   "source": [
    "import pdftotext"
   ]
  },
  {
   "cell_type": "code",
   "execution_count": 6,
   "id": "03e17e56",
   "metadata": {},
   "outputs": [],
   "source": [
    "file = open(\"/Users/minjikim/Library/Mobile Documents/com~apple~CloudDocs/24살 백수 민지/DH/Origin_of_Species.pdf\",'rb')\n",
    "fileReader = pdftotext.PDF(file)"
   ]
  },
  {
   "cell_type": "code",
   "execution_count": 7,
   "id": "77f564dd",
   "metadata": {},
   "outputs": [
    {
     "name": "stdout",
     "output_type": "stream",
     "text": [
      "총 페이지수는 247입니다.\n"
     ]
    }
   ],
   "source": [
    "print(\"총 페이지수는 {}입니다.\".format(len(fileReader)))"
   ]
  },
  {
   "cell_type": "code",
   "execution_count": 8,
   "id": "dbf24eb3",
   "metadata": {},
   "outputs": [
    {
     "data": {
      "text/plain": [
       "\"           On the Origin of Species\\n                                                 By\\n\\n\\n                                      Charles Darwin\\n\\n\\n\\n\\n'But with regard to the material world, we can at least go so far as this-- we can perceive that events\\nare brought about not by insulated interpositions of Divine power, exerted in each particular case,\\nbut by the establishment of general laws.'\\n                                                                   W. Whewell: Bridgewater Treatise.\\n\\n\\n\\n\\n'To conclude, therefore, let no man out of a weak conceit of sobriety, or an ill-applied moderation,\\nthink or maintain, that a man can search too far or be too well studied in the book of God's word, or\\nin the book of God's works; divinity or philosophy; but rather let men endeavour an endless\\nprogress or proficience in both.'\\n\\n                                                                   Bacon: Advancement of Learning.\\n\\n\\n\\n\\nDown, Bromley, Kent,\\n\\nOctober 1st, 1859.\\n\\x0c\""
      ]
     },
     "execution_count": 8,
     "metadata": {},
     "output_type": "execute_result"
    }
   ],
   "source": [
    "fileReader[0]"
   ]
  },
  {
   "cell_type": "code",
   "execution_count": 11,
   "id": "ee9053b1",
   "metadata": {},
   "outputs": [
    {
     "data": {
      "text/plain": [
       "\"On the Origin of Species by Means of Natural Selection, or the Preservation of\\nFavoured Races in the Struggle for Life.\\n\\nBy Charles Darwin\\n\\nContents\\n\\nIntroduction\\n\\nChapter I      Variation under Domestication\\n\\nCauses of Variability -- Effects of Habit -- Correlation of Growth -- Inheritance -- Character of\\nDomestic Varieties -- Difficulty of distinguishing between Varieties and Species -- Origin of\\nDomestic Varieties from one or more Species -- Domestic Pigeons, their Differences and Origin --\\nPrinciple of Selection anciently followed, its Effects -- Methodical and Unconscious Selection --\\nUnknown Origin of our Domestic Productions -- Circumstances favourable to Man's power of\\nSelection.\\n\\n\\nChapter II     Variation under Nature\\n\\nVariability -- Individual Differences -- Doubtful species -- Wide ranging, much diffused, and\\ncommon species vary most -- Species of the larger genera in any country vary more than the\\nspecies of the smaller genera -- Many of the species of the larger genera resemble varieties in being\\nvery closely, but unequally, related to each other, and in having restricted ranges.\\n\\n\\nChapter III    Struggle for Existence\\n\\nBears on natural selection -- The term used in a wide sense -- Geometrical powers of increase --\\nRapid increase of naturalised animals and plants -- Nature of the checks to increase -- Competition\\nuniversal -- Effects of climate -- Protection from the number of individuals -- Complex relations of\\nall animals and plants throughout nature -- Struggle for life most severe between individuals and\\nvarieties of the same species; often severe between species of the same genus -- The relation of\\norganism to organism the most important of all relations.\\n\\n\\nChapter IV     Natural Selection\\n\\nNatural Selection -- its power compared with man's selection -- its power on characters of trifling\\nimportance -- its power at all ages and on both sexes -- Sexual Selection -- On the generality of\\nintercrosses between individuals of the same species -- Circumstances favourable and unfavourable\\nto Natural Selection, namely, intercrossing, isolation, number of individuals -- Slow action --\\nExtinction caused by Natural Selection -- Divergence of Character, related to the diversity of\\ninhabitants of any small area, and to naturalisation -- Action of Natural Selection, through\\nDivergence of Character and Extinction, on the descendants from a common parent -- Explains the\\nGrouping of all organic beings.\\n\\x0c\""
      ]
     },
     "execution_count": 11,
     "metadata": {},
     "output_type": "execute_result"
    }
   ],
   "source": [
    "fileReader[1]"
   ]
  },
  {
   "cell_type": "code",
   "execution_count": 19,
   "id": "94d1af28",
   "metadata": {},
   "outputs": [],
   "source": [
    "fileReader = fileReader[5:]"
   ]
  },
  {
   "cell_type": "code",
   "execution_count": 20,
   "id": "fb8d754a",
   "metadata": {},
   "outputs": [
    {
     "data": {
      "text/plain": [
       "\"gin of Species.\\n\\nIntroduction.\\n\\nWhen on board H.M.S. 'Beagle,' as naturalist, I was much struck with certain facts in the\\ndistribution of the inhabitants of South America, and in the geological relations of the present to the\\npast inhabitants of that continent. These facts seemed to me to throw some light on the origin of\\nspecies--that mystery of mysteries, as it has been called by one of our greatest philosophers. On\\nmy return home, it occurred to me, in 1837, that something might perhaps be made out on this\\nquestion by patiently accumulating and reflecting on all sorts of facts which could possibly have\\nany bearing on it. After five years' work I allowed myself to speculate on the subject, and drew up\\nsome short notes; these I enlarged in 1844 into a sketch of the conclusions, which then seemed to\\nme probable: from that period to the present day I have steadily pursued the same object. I hope\\nthat I may be excused for entering on these personal details, as I give them to show that I have not\\nbeen hasty in coming to a decision.\\n\\nMy work is now nearly finished; but as it will take me two or three more years to complete it, and\\nas my health is far from strong, I have been urged to publish this Abstract. I have more especially\\nbeen induced to do this, as Mr. Wallace, who is now studying the natural history of the Malay\\narchipelago, has arrived at almost exactly the same general conclusions that I have on the origin of\\nspecies. Last year he sent to me a memoir on this subject, with a request that I would forward it to\\nSir Charles Lyell, who sent it to the Linnean Society, and it is published in the third volume of the\\nJournal of that Society. Sir C. Lyell and Dr. Hooker, who both knew of my work--the latter having\\nread my sketch of 1844--honoured me by thinking it advisable to publish, with Mr. Wallace's\\nexcellent memoir, some brief extracts from my manuscripts.\\n\\nThis Abstract, which I now publish, must necessarily be imperfect. I cannot here give references\\nand authorities for my several statements; and I must trust to the reader reposing some confidence\\nin my accuracy. No doubt errors will have crept in, though I hope I have always been cautious in\\ntrusting to good authorities alone. I can here give only the general conclusions at which I have\\narrived, with a few facts in illustration, but which, I hope, in most cases will suffice. No one can\\nfeel more sensible than I do of the necessity of hereafter publishing in detail all the facts, with\\nreferences, on which my conclusions have been grounded; and I hope in a future work to do this.\\nFor I am well aware that scarcely a single point is discussed in this volume on which facts cannot\\nbe adduced, often apparently leading to conclusions directly opposite to those at which I have\\narrived. A fair result can be obtained only by fully stating and balancing the facts and arguments\\non both sides of each question; and this cannot possibly be here done.\\n\\nI much regret that want of space prevents my having the satisfaction of acknowledging the\\ngenerous assistance which I have received from very many naturalists, some of them personally\\nunknown to me. I cannot, however, let this opportunity pass without expressing my deep\\nobligations to Dr. Hooker, who for the last fifteen years has aided me in every possible way by his\\nlarge stores of knowledge and his excellent judgment.\\n\\nIn considering the Origin of Species, it is quite conceivable that a naturalist, reflecting on the\\nmutual affinities of organic beings, on their embryological relations, their geographical distribution,\\n\\x0c\""
      ]
     },
     "execution_count": 20,
     "metadata": {},
     "output_type": "execute_result"
    }
   ],
   "source": [
    "fileReader"
   ]
  },
  {
   "cell_type": "code",
   "execution_count": 21,
   "id": "9410b314",
   "metadata": {},
   "outputs": [],
   "source": [
    "def write_split_file(src,count,lines):\n",
    "    origName=src.replace('.txt,'') #.txt 빼고 제목만 추출\n",
    "    dstName = origName + '-' +str(count) + '.txt' #제목 뒤에 붙이기\n",
    "    \n",
    "    with oepn(dstName, 'w', encoding='utf8') as fd:\n",
    "        fd.write('\\ufeff')\n",
    "        fd.write('\\n'.join(lines))\n",
    "        fd.close()"
   ]
  },
  {
   "cell_type": "code",
   "execution_count": 22,
   "id": "9f3f2c86",
   "metadata": {},
   "outputs": [],
   "source": [
    "def split_file(src,delimeter,startIndex):\n",
    "    lineList=[]\n",
    "    with open(src, 'r', encoding='utf-8') as ori_file:\n",
    "        try:\n",
    "            for line in ori_file :\n",
    "                line = line.strip()\n",
    "                if line.startswith(delimeter):\n",
    "                    write_split_file(src,startIndex,lineList)\n",
    "                    lineList=[]\n",
    "                    lineList.append(line.split(delimeter)[1])\n",
    "                    startIndex += 1\n",
    "                else:\n",
    "                    lineList.append(line)\n",
    "        except Exception as e:\n",
    "            print(e)\n",
    "        \n",
    "        if lineList:\n",
    "            write_split_file(src,startIndex,lineList)"
   ]
  },
  {
   "cell_type": "code",
   "execution_count": null,
   "id": "ac20bb33",
   "metadata": {},
   "outputs": [],
   "source": []
  }
 ],
 "metadata": {
  "kernelspec": {
   "display_name": "Python [conda env:tensorflow] *",
   "language": "python",
   "name": "conda-env-tensorflow-py"
  },
  "language_info": {
   "codemirror_mode": {
    "name": "ipython",
    "version": 3
   },
   "file_extension": ".py",
   "mimetype": "text/x-python",
   "name": "python",
   "nbconvert_exporter": "python",
   "pygments_lexer": "ipython3",
   "version": "3.6.13"
  }
 },
 "nbformat": 4,
 "nbformat_minor": 5
}
