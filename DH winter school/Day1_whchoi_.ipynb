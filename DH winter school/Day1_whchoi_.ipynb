{
 "cells": [
  {
   "cell_type": "code",
   "execution_count": null,
   "id": "3f3f42a1",
   "metadata": {},
   "outputs": [],
   "source": [
    "file_path=''"
   ]
  },
  {
   "cell_type": "code",
   "execution_count": 13,
   "id": "bd1a8306",
   "metadata": {},
   "outputs": [
    {
     "ename": "FileNotFoundError",
     "evalue": "[Errno 2] No such file or directory: 'okss_004_001.txt'",
     "output_type": "error",
     "traceback": [
      "\u001b[0;31m---------------------------------------------------------------------------\u001b[0m",
      "\u001b[0;31mFileNotFoundError\u001b[0m                         Traceback (most recent call last)",
      "\u001b[0;32m<ipython-input-13-c769f3c832b9>\u001b[0m in \u001b[0;36masync-def-wrapper\u001b[0;34m()\u001b[0m\n\u001b[1;32m      7\u001b[0m         \u001b[0mm_lines\u001b[0m \u001b[0;34m=\u001b[0m \u001b[0;34m[\u001b[0m\u001b[0ml\u001b[0m\u001b[0;34m.\u001b[0m\u001b[0mstrip\u001b[0m\u001b[0;34m(\u001b[0m\u001b[0;34m)\u001b[0m \u001b[0;32mfor\u001b[0m \u001b[0ml\u001b[0m \u001b[0;32min\u001b[0m \u001b[0mf_in\u001b[0m\u001b[0;34m.\u001b[0m\u001b[0mreadlines\u001b[0m\u001b[0;34m(\u001b[0m\u001b[0;34m)\u001b[0m\u001b[0;34m]\u001b[0m\u001b[0;34m\u001b[0m\u001b[0;34m\u001b[0m\u001b[0m\n\u001b[1;32m      8\u001b[0m \u001b[0;34m\u001b[0m\u001b[0m\n\u001b[0;32m----> 9\u001b[0;31m     \u001b[0;31m#print(len(m_lines))\u001b[0m\u001b[0;34m\u001b[0m\u001b[0;34m\u001b[0m\u001b[0;34m\u001b[0m\u001b[0m\n\u001b[0m\u001b[1;32m     10\u001b[0m \u001b[0;34m\u001b[0m\u001b[0m\n\u001b[1;32m     11\u001b[0m     \u001b[0mm_pairs\u001b[0m \u001b[0;34m=\u001b[0m \u001b[0;34m[\u001b[0m\u001b[0;34m]\u001b[0m\u001b[0;34m\u001b[0m\u001b[0;34m\u001b[0m\u001b[0m\n",
      "\u001b[0;31mFileNotFoundError\u001b[0m: [Errno 2] No such file or directory: 'okss_004_001.txt'"
     ]
    }
   ],
   "source": [
    "\n",
    "#python\n",
    "#\n",
    "# okss_004_002.py\n",
    "#\n",
    "\n",
    "    with open(\"okss_004_001.txt\", \"r\", encoding=\"utf-8\") as f_in:\n",
    "        m_lines = [l.strip() for l in f_in.readlines()]\n",
    "\n",
    "    #print(len(m_lines))\n",
    "\n",
    "    m_pairs = []\n",
    "    for idx_i in range(len(m_lines)):\n",
    "        list_cur_i = m_lines[idx_i].split('#')\n",
    "        str_cno_i = list_cur_i[2]\n",
    "\n",
    "        for idx_j in range(idx_i+1, len(m_lines)):            \n",
    "            list_cur_j = m_lines[idx_j].split('#')\n",
    "            str_cno_j = list_cur_j[2]\n",
    "\n",
    "            if str_cno_i == str_cno_j:\n",
    "                m_pairs.append( [m_lines[idx_i], m_lines[idx_j]] )\n",
    "\n",
    "    #print(len(m_pairs))\n",
    "\n",
    "    # Tab으로 분리된 텍스트로 비교 대상 쌍을 출력\n",
    "    with open(\"okss_004_002.txt\", \"w\", encoding=\"utf-8\") as f_out:\n",
    "        for elt in m_pairs:\n",
    "            str_left = '\\t'.join(elt[0].split('#'))\n",
    "            str_right = '\\t'.join(elt[1].split('#'))\n",
    "            print(str_left, str_right, sep='\\t', file=f_out)"
   ]
  },
  {
   "cell_type": "code",
   "execution_count": 16,
   "id": "028443f7",
   "metadata": {},
   "outputs": [
    {
     "name": "stdout",
     "output_type": "stream",
     "text": [
      "\u001b[31mERROR: Could not find a version that satisfies the requirement difflib (from versions: none)\u001b[0m\n",
      "\u001b[31mERROR: No matching distribution found for difflib\u001b[0m\n",
      "Note: you may need to restart the kernel to use updated packages.\n"
     ]
    }
   ],
   "source": [
    "pip install difflib"
   ]
  },
  {
   "cell_type": "code",
   "execution_count": 19,
   "id": "89cda36e",
   "metadata": {},
   "outputs": [],
   "source": [
    "from tqdm import tqdm"
   ]
  },
  {
   "cell_type": "code",
   "execution_count": null,
   "id": "877d09c8",
   "metadata": {},
   "outputs": [],
   "source": []
  }
 ],
 "metadata": {
  "kernelspec": {
   "display_name": "Python 3",
   "language": "python",
   "name": "python3"
  },
  "language_info": {
   "codemirror_mode": {
    "name": "ipython",
    "version": 3
   },
   "file_extension": ".py",
   "mimetype": "text/x-python",
   "name": "python",
   "nbconvert_exporter": "python",
   "pygments_lexer": "ipython3",
   "version": "3.6.13"
  },
  "vscode": {
   "interpreter": {
    "hash": "aee8b7b246df8f9039afb4144a1f6fd8d2ca17a180786b69acc140d282b71a49"
   }
  }
 },
 "nbformat": 4,
 "nbformat_minor": 5
}
